{
 "cells": [
  {
   "cell_type": "markdown",
   "id": "5a25ed7c-8011-4e28-8238-a37cfc9d2c10",
   "metadata": {},
   "source": [
    "# Plot evolution of scores for aao vs seq assimilation (script compare_aao_vs_seq_glsd_data.py"
   ]
  },
  {
   "cell_type": "code",
   "execution_count": null,
   "id": "b217b082-7c07-4862-ac36-6d1a3654a630",
   "metadata": {},
   "outputs": [],
   "source": [
    "# Load datasets.\n",
    "import os\n",
    "import numpy as np\n",
    "import xarray as xr\n",
    "\n",
    "\n",
    "base_results_folder = \"/storage/homefs/ct19x463/Dev/Climate/reporting/all_at_once_vs_sequential/\"\n",
    "years_folders = [\"all_at_once_vs_sequential_62_64/\", \"all_at_once_vs_sequential_65_68/\",\n",
    "                 \"all_at_once_vs_sequential_69_71/\", \"all_at_once_vs_sequential_72_74/\",\n",
    "                 \"all_at_once_vs_sequential_75_77/\", \"all_at_once_vs_sequential_78_80/\"]\n",
    "\n",
    "prior_means = xr.open_mfdataset(paths=[os.path.join(os.path.join(base_results_folder, year_folder), \"prior_means.nc\") for year_folder in years_folders])\n",
    "updated_means_aao = xr.open_mfdataset(paths=[os.path.join(os.path.join(base_results_folder, year_folder), \"updated_means_aao.nc\") for year_folder in years_folders])\n",
    "updated_means_seq = xr.open_mfdataset(paths=[os.path.join(os.path.join(base_results_folder, year_folder), \"updated_means_seq.nc\") for year_folder in years_folders])\n",
    "references = xr.open_mfdataset(paths=[os.path.join(os.path.join(base_results_folder, year_folder), \"references.nc\") for year_folder in years_folders])"
   ]
  },
  {
   "cell_type": "code",
   "execution_count": null,
   "id": "30bb42f6-3c23-481f-9704-4b76983aabe6",
   "metadata": {},
   "outputs": [],
   "source": [
    "# Compute scores.\n",
    "from diesel.scoring import compute_RE_score, compute_CRPS, compute_energy_score, compute_RMSE\n",
    "\n",
    "# Loop over months in the dataset.\n",
    "prior_RMSEs, aao_RMSEs, seq_RMSEs, aao_median_REs, seq_median_REs = [], [], [], [], []\n",
    "for time in updated_means_aao.time:\n",
    "    # Select corresponding arrays.\n",
    "    prior_mean = prior_means.sel({'time': time}).temperature\n",
    "    updated_mean_seq = updated_means_seq.sel({'time': time}).temperature\n",
    "    updated_mean_aao = updated_means_aao.sel({'time': time}).temperature\n",
    "    reference = references.sel({'time': time}).temperature\n",
    "\n",
    "    # Stack in vector format (1D) for further computations.\n",
    "    stacked_prior_mean = prior_mean.stack(stacked_dim=('latitude', 'longitude')).values\n",
    "    stacked_updated_mean_seq = updated_mean_seq.stack(stacked_dim=('latitude', 'longitude')).values\n",
    "    stacked_updated_mean_aao = updated_mean_aao.stack(stacked_dim=('latitude', 'longitude')).values\n",
    "    stacked_reference = reference.stack(stacked_dim=('latitude', 'longitude')).compute()\n",
    "\n",
    "    # RMSE\n",
    "    prior_RMSEs.append(compute_RMSE(stacked_prior_mean, stacked_reference, min_lat=-70, max_lat=70))\n",
    "    aao_RMSEs.append(compute_RMSE(stacked_updated_mean_aao, stacked_reference, min_lat=-70, max_lat=70))\n",
    "    seq_RMSEs.append(compute_RMSE(stacked_updated_mean_seq, stacked_reference, min_lat=-70, max_lat=70))\n",
    "\n",
    "    RE_score_map = compute_RE_score(stacked_prior_mean, stacked_updated_mean_seq, stacked_reference, min_lat=-70, max_lat=70)\n",
    "    seq_median_REs.append(np.median(RE_score_map))\n",
    "    RE_score_map = compute_RE_score(stacked_prior_mean, stacked_updated_mean_aao, stacked_reference, min_lat=-70, max_lat=70)\n",
    "    aao_median_REs.append(np.median(RE_score_map))"
   ]
  },
  {
   "cell_type": "code",
   "execution_count": null,
   "id": "4aff8ff7-c0f3-4831-89b1-0f6f9e719021",
   "metadata": {},
   "outputs": [],
   "source": [
    "# Collect into dataframe.\n",
    "import pandas as pd \n",
    "\n",
    "scores_df = pd.DataFrame.from_dict({'time': list(updated_means_aao.time.values), 'prior RMSE': prior_RMSEs, 'aao RMSE': aao_RMSEs, 'seq RMSE': seq_RMSEs,\n",
    "                          'aao median RE': aao_median_REs, 'seq median RE': seq_median_REs})"
   ]
  },
  {
   "cell_type": "code",
   "execution_count": null,
   "id": "bc816cd9-9c05-4fc2-97be-9ad48a876d18",
   "metadata": {},
   "outputs": [],
   "source": [
    "# Plot results.\n",
    "# RMSE.\n",
    "import matplotlib.pyplot as plt\n",
    "import seaborn as sns\n",
    "from matplotlib.dates import DateFormatter\n",
    "import matplotlib.dates as mdates\n",
    "\n",
    "\n",
    "sns.set()\n",
    "sns.set_style(\"white\")\n",
    "plt.rcParams[\"font.family\"] = \"serif\"\n",
    "plot_params = {\n",
    "        'font.size': 26, 'font.style': 'oblique',\n",
    "        'axes.labelsize': 'x-small',\n",
    "        'axes.titlesize':'x-small',\n",
    "        'legend.fontsize': 'x-small',\n",
    "        'xtick.labelsize': 'x-small',\n",
    "        'ytick.labelsize': 'x-small'\n",
    "        }\n",
    "plt.rcParams.update(plot_params)\n",
    "\n",
    "sns.set_palette(\"twilight_shifted_r\")\n",
    "\n",
    "\n",
    "plt.figure(figsize=(35, 10))\n",
    "ax = sns.lineplot(data=scores_df, x=\"time\", y='aao RMSE', lw=4)\n",
    "ax = sns.lineplot(data=scores_df, x=\"time\", y='seq RMSE', lw=4)\n",
    "ax = sns.lineplot(data=scores_df, x=\"time\", y='prior RMSE', lw=4)\n",
    "\n",
    "ax.tick_params(axis='x', rotation=90)\n",
    "ax.set_xlim(scores_df['time'].min(), scores_df['time'].max())\n",
    "ax.xaxis.set_major_locator(mdates.MonthLocator(interval=3))\n",
    "ax.xaxis.set_major_formatter(DateFormatter(\"%Y-%m\"))\n",
    "plt.xlabel(\"\")\n",
    "plt.ylabel(\"RMSE\")\n",
    "plt.legend([\"prior\", \"sequential\", \"all-at-once\"])\n",
    "plt.savefig(\"RMSE_comparison\", bbox_inches=\"tight\", pad_inches=0.1, dpi=400)\n",
    "plt.show()"
   ]
  },
  {
   "cell_type": "code",
   "execution_count": null,
   "id": "29a9641d-4847-4977-bac1-069005fb453a",
   "metadata": {},
   "outputs": [],
   "source": [
    "# Plot results.\n",
    "# RE score.\n",
    "import matplotlib.pyplot as plt\n",
    "import seaborn as sns\n",
    "from matplotlib.dates import DateFormatter\n",
    "import matplotlib.dates as mdates\n",
    "\n",
    "\n",
    "sns.set()\n",
    "sns.set_style(\"white\")\n",
    "plt.rcParams[\"font.family\"] = \"serif\"\n",
    "plot_params = {\n",
    "        'font.size': 26, 'font.style': 'oblique',\n",
    "        'axes.labelsize': 'x-small',\n",
    "        'axes.titlesize':'x-small',\n",
    "        'legend.fontsize': 'x-small',\n",
    "        'xtick.labelsize': 'x-small',\n",
    "        'ytick.labelsize': 'x-small'\n",
    "        }\n",
    "plt.rcParams.update(plot_params)\n",
    "\n",
    "sns.set_palette(\"twilight_shifted_r\")\n",
    "\n",
    "\n",
    "plt.figure(figsize=(35, 10))\n",
    "ax = sns.lineplot(data=scores_df, x=\"time\", y='aao median RE', lw=4)\n",
    "ax = sns.lineplot(data=scores_df, x=\"time\", y='seq median RE', lw=4)\n",
    "\n",
    "ax.tick_params(axis='x', rotation=90)\n",
    "ax.set_xlim(scores_df['time'].min(), scores_df['time'].max())\n",
    "ax.xaxis.set_major_locator(mdates.MonthLocator(interval=3))\n",
    "ax.xaxis.set_major_formatter(DateFormatter(\"%Y-%m\"))\n",
    "plt.xlabel(\"\")\n",
    "plt.ylabel(\"median RE score\")\n",
    "plt.legend([\"sequential\", \"all-at-once\"])\n",
    "plt.savefig(\"RE_comparison\", bbox_inches=\"tight\", pad_inches=0.1, dpi=400)\n",
    "plt.show()"
   ]
  },
  {
   "cell_type": "markdown",
   "id": "a32dc294-50e8-4feb-bed8-243a66e330c7",
   "metadata": {},
   "source": [
    "## Study spatial distribution."
   ]
  },
  {
   "cell_type": "code",
   "execution_count": null,
   "id": "6a606396-54ce-442b-8ccc-2f7f8fa0e158",
   "metadata": {
    "tags": []
   },
   "outputs": [],
   "source": [
    "seq_RE_maps, aao_RE_maps = [], []\n",
    "\n",
    "for time in updated_means_aao.time:\n",
    "    # Select corresponding arrays.\n",
    "    prior_mean = prior_means.sel({'time': time}).temperature\n",
    "    updated_mean_seq = updated_means_seq.sel({'time': time}).temperature\n",
    "    updated_mean_aao = updated_means_aao.sel({'time': time}).temperature\n",
    "    reference = references.sel({'time': time}).temperature\n",
    "\n",
    "    # Stack in vector format (1D) for further computations.\n",
    "    stacked_prior_mean = prior_mean.stack(stacked_dim=('latitude', 'longitude')).values\n",
    "    stacked_updated_mean_seq = updated_mean_seq.stack(stacked_dim=('latitude', 'longitude')).values\n",
    "    stacked_updated_mean_aao = updated_mean_aao.stack(stacked_dim=('latitude', 'longitude')).values\n",
    "    stacked_reference = reference.stack(stacked_dim=('latitude', 'longitude')).compute()\n",
    "\n",
    "    RE_score_map = compute_RE_score(stacked_prior_mean, stacked_updated_mean_seq, stacked_reference, min_lat=-70, max_lat=70)\n",
    "    print(RE_score_map)\n",
    "    seq_RE_maps.append(RE_score_map)\n",
    "    RE_score_map = compute_RE_score(stacked_prior_mean, stacked_updated_mean_aao, stacked_reference, min_lat=-70, max_lat=70)\n",
    "    aao_RE_maps.append(RE_score_map)"
   ]
  },
  {
   "cell_type": "code",
   "execution_count": null,
   "id": "490b45fb-8f8b-48bc-9c86-559889e013ff",
   "metadata": {},
   "outputs": [],
   "source": [
    "print(stacked_prior_mean.shape)\n",
    "print(stacked_updated_mean_seq.shape)\n",
    "print(stacked_reference.shape)"
   ]
  },
  {
   "cell_type": "code",
   "execution_count": null,
   "id": "4eb25697-4daa-4bfa-88d7-f3fab3c4171a",
   "metadata": {},
   "outputs": [],
   "source": [
    "min_lat, max_lat = -70, 70\n",
    "lat_filter_inds = (references.latitude < max_lat).data & (references.latitude > min_lat).data\n",
    "\n",
    "filtered_ref = ref = references.temperature.data [:, lat_filter_inds, :]                                         \n",
    "filtered_prior_means = prior_means.temperature.data [:, lat_filter_inds, :]                                         \n",
    "filtered_updated_means_aao = updated_means_aao.temperature.data [:, lat_filter_inds, :]                                         "
   ]
  },
  {
   "cell_type": "code",
   "execution_count": null,
   "id": "3d817c83-4cb4-4807-8e12-a1e0c69a5fb2",
   "metadata": {},
   "outputs": [],
   "source": [
    "# Flatten the space dimensions.\n",
    "stacked_ref = filtered_ref.reshape((filtered_ref.shape[0], filtered_ref.shape[1] * filtered_ref.shape[2]))\n",
    "stacked_prior_means = filtered_prior_means.reshape((filtered_ref.shape[0], filtered_ref.shape[1] * filtered_ref.shape[2]))\n",
    "stacked_updated_means_aao = filtered_updated_means_aao.reshape((filtered_ref.shape[0], filtered_ref.shape[1] * filtered_ref.shape[2]))"
   ]
  },
  {
   "cell_type": "code",
   "execution_count": null,
   "id": "1b9f1e2e-0e2d-4957-a3dc-43708d691fc8",
   "metadata": {},
   "outputs": [],
   "source": [
    "# Cut to the shape of the reference (continents only) by getting rid of Nans.\n",
    "# Shape of the NaNs is always the same, so we filter using the shape at time 0.\n",
    "nan_inds = np.isnan(stacked_ref[0, :]).compute()\n",
    "stacked_ref_nonan = stacked_ref.compute()[:, ~nan_inds]                                \n",
    "stacked_prior_means_nonan = stacked_prior_means.compute()[:, ~nan_inds]\n",
    "stacked_updated_means_aao_nonan = stacked_updated_means_aao.compute()[:, ~nan_inds]                                "
   ]
  },
  {
   "cell_type": "code",
   "execution_count": null,
   "id": "511f8d8f-4529-4e87-8d7c-fca0c6c5c00b",
   "metadata": {},
   "outputs": [],
   "source": [
    "# Compute score.\n",
    "RE_score = 1 - np.mean((stacked_updated_means_aao_nonan - stacked_ref_nonan)**2, axis=0) / np.mean((stacked_prior_means_nonan - stacked_ref_nonan)**2, axis=0)\n",
    "print(RE_score.shape)"
   ]
  }
 ],
 "metadata": {
  "kernelspec": {
   "display_name": "Python 3 (ipykernel)",
   "language": "python",
   "name": "python3"
  },
  "language_info": {
   "codemirror_mode": {
    "name": "ipython",
    "version": 3
   },
   "file_extension": ".py",
   "mimetype": "text/x-python",
   "name": "python",
   "nbconvert_exporter": "python",
   "pygments_lexer": "ipython3",
   "version": "3.8.13"
  }
 },
 "nbformat": 4,
 "nbformat_minor": 5
}
